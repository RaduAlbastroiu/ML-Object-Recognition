{
 "cells": [
  {
   "cell_type": "code",
   "execution_count": null,
   "metadata": {},
   "outputs": [],
   "source": [
    "from darkflow.net.build import TFNet\n",
    "import cv2\n",
    "import tensorflow as tf\n",
    "import sys \n",
    "import os\n",
    "\n",
    "# Config TF, set True if using GPU\n",
    "config = tf.ConfigProto(log_device_placement = False)\n",
    "config.gpu_options.allow_growth = False\n",
    "\n",
    "with tf.Session(config = config) as sess:\n",
    "  options = {'model' : 'cfg/yolo.cfg', \n",
    "            'load' : 'yolov2.weights',\n",
    "            'threshold' : 0.3, \n",
    "            #'gpu' : 1.0 # uncomment if using GPU\n",
    "  }\n",
    "  tfnet = TFNet(options)\n"
   ]
  },
  {
   "cell_type": "code",
   "execution_count": null,
   "metadata": {},
   "outputs": [],
   "source": [
    "img = cv2.imread('./sample_img/sample_horses.jpg')\n",
    "img = cv2.cvtColor(img, cv2.COLOR_BGR2RGB)\n",
    "results = tfnet.return_predict(img)\n",
    "print(results)"
   ]
  },
  {
   "cell_type": "code",
   "execution_count": null,
   "metadata": {},
   "outputs": [],
   "source": [
    "img = cv2.imread('sample_img/sample_horses.jpg')\n",
    "for(i, result) in enumerate(results):\n",
    "  x = result['topleft']['x']\n",
    "  w = result['bottomright']['x'] - result['topleft']['x']\n",
    "  y = result['topleft']['y']\n",
    "  h = result['bottomright']['y'] - result['topleft']['y']\n",
    "  cv2.rectangle(img, (x,y), (x+w, y+h), (0,255,0), 2)\n",
    "  label_position = (x + int(w/2)), abs(y-10)\n",
    "  cv2.putText(img, result['label'], label_position, cv2.FONT_HERSHEY_SIMPLEX, 0.5, (255, 255, 255), 2)\n",
    "\n",
    "cv2.imshow(\"object detection yolo\", img)\n",
    "cv2.waitKey(0)\n",
    "cv2.destroyAllWindows()"
   ]
  },
  {
   "cell_type": "code",
   "execution_count": null,
   "metadata": {},
   "outputs": [],
   "source": []
  },
  {
   "cell_type": "code",
   "execution_count": null,
   "metadata": {},
   "outputs": [],
   "source": []
  }
 ],
 "metadata": {
  "kernelspec": {
   "display_name": "Python 3",
   "language": "python",
   "name": "python3"
  },
  "language_info": {
   "codemirror_mode": {
    "name": "ipython",
    "version": 3
   },
   "file_extension": ".py",
   "mimetype": "text/x-python",
   "name": "python",
   "nbconvert_exporter": "python",
   "pygments_lexer": "ipython3",
   "version": "3.7.3"
  }
 },
 "nbformat": 4,
 "nbformat_minor": 2
}
